{
 "cells": [
  {
   "cell_type": "code",
   "execution_count": 1,
   "metadata": {},
   "outputs": [],
   "source": [
    "import plotly.offline as pyo\n",
    "import plotly.graph_objs as go\n",
    "# import pyforest\n",
    "import seaborn as sns\n",
    "import matplotlib.pyplot as plt\n",
    "import pandas as pd\n",
    "import numpy as np\n",
    "%matplotlib inline"
   ]
  },
  {
   "cell_type": "code",
   "execution_count": 5,
   "metadata": {},
   "outputs": [],
   "source": [
    "df=pd.read_excel(\"/../Sample-data-ML-13AUG2020.xlsx\")"
   ]
  },
  {
   "cell_type": "code",
   "execution_count": null,
   "metadata": {},
   "outputs": [],
   "source": [
    "df['TICKET_SIZE']=df.TICKET_SIZE.astype(int)\n",
    "df['TICKET_SIZE']=df.TICKET_SIZE.astype(int)\n",
    "df['ANNULIZED']=df.ANNULIZED.astype(int)\n",
    "df['BOOKING_FREQUENCY']=df.BOOKING_FREQUENCY.astype(float)"
   ]
  },
  {
   "cell_type": "code",
   "execution_count": null,
   "metadata": {},
   "outputs": [],
   "source": [
    "df=df[['TICKET_SIZE','AUTO_MANDATE_FLAG','FUP_DATE','ANNULIZED',\n",
    "       'FUP_BUCKET', 'BOOKING_FREQUENCY', 'CHANNEL',\n",
    "       'PERSISTENCY_FLAG', 'TERM_MONTH', 'FUP_MONTH',\n",
    "       'PAYMETHOD','CLEAN_STATE','P_PRODUCT_TYPE', 'PRODUCT_NAME', 'AGENT_STATUS']]\n",
    "df['FUP_YEAR']=df.FUP_DATE.dt.year\n",
    "df['FUP_MONTH']=df.FUP_DATE.dt.month\n",
    "# df=pd.concat([df,FUP_YEAR,df.FUP_MONTH],axis=1)\n",
    "df1=df.drop(['FUP_DATE','ANNULIZED'],axis=1)\n",
    "df = df1\n",
    "df"
   ]
  },
  {
   "cell_type": "code",
   "execution_count": null,
   "metadata": {},
   "outputs": [],
   "source": [
    "plotly_data = [go.Scatter(x=df.AGENT_STATUS,y=df.TICKET_SIZE, mode='markers',name=\"Paymethod Vs TicketSize\")]\n",
    "layout = go.Layout(title='Paymethod Vs TicketSize')\n",
    "fig = go.Figure(data=plotly_data,layout=layout)\n",
    "pyo.plot(fig)"
   ]
  },
  {
   "cell_type": "code",
   "execution_count": null,
   "metadata": {},
   "outputs": [],
   "source": [
    "df.BOOKING_FREQUENCY.value_counts()"
   ]
  },
  {
   "cell_type": "code",
   "execution_count": null,
   "metadata": {},
   "outputs": [],
   "source": []
  },
  {
   "cell_type": "code",
   "execution_count": null,
   "metadata": {},
   "outputs": [],
   "source": []
  },
  {
   "cell_type": "code",
   "execution_count": null,
   "metadata": {},
   "outputs": [],
   "source": [
    "for i in df.dtypes:\n",
    "#     print(i)\n",
    "    if i=='O':\n",
    "        print(i)\n",
    "    else:\n",
    "        print(\"numerical\",i)"
   ]
  },
  {
   "cell_type": "code",
   "execution_count": null,
   "metadata": {},
   "outputs": [],
   "source": [
    "plotly_data = [go.Bar(x=df.BOOKING_FREQUENCY.value_counts().index,y=df.BOOKING_FREQUENCY.value_counts().values)]\n",
    "layout = go.Layout(title='yryradkasdasd')\n",
    "fig = go.Figure(data=plotly_data,layout=layout)\n",
    "pyo.plot(plotly_data)"
   ]
  },
  {
   "cell_type": "code",
   "execution_count": null,
   "metadata": {},
   "outputs": [],
   "source": [
    "plotly_data = [go.Scatter(x=df.CHANNEL.value_counts().index,y=df.CHANNEL.value_counts().values, mode='markers+lines',name=\"Paymethod Vs TicketSize\")]\n",
    "layout = go.Layout(title='CHANNEL COUNTS')\n",
    "fig = go.Figure(data=plotly_data,layout=layout)\n",
    "pyo.plot(fig,filename=\"Channel Counts.html\")#image='jpeg'-->downloads the image"
   ]
  },
  {
   "cell_type": "code",
   "execution_count": null,
   "metadata": {},
   "outputs": [],
   "source": [
    "plotly_data = [go.Scatter(x=df.PAYMETHOD,y=df.TICKET_SIZE, mode='markers',name=\"Paymethod Vs TicketSize\")]\n",
    "layout = go.Layout(title='Paymethod Vs TicketSize')\n",
    "fig = go.Figure(data=plotly_data,layout=layout)\n",
    "pyo.plot(fig)"
   ]
  },
  {
   "cell_type": "code",
   "execution_count": null,
   "metadata": {},
   "outputs": [],
   "source": [
    "plotly_data = [go.Scatter(x=df.CHANNEL.value_counts().index,y=df.BOOKING_FREQUENCY.value_counts().values, mode='markers+lines',name=\"Paymethod Vs TicketSize\")]\n",
    "layout = go.Layout(title='CHANNEL COUNTS')\n",
    "fig = go.Figure(data=plotly_data,layout=layout)\n",
    "pyo.plot(fig,filename=\"Channel Counts.html\")#image='jpeg'-->downloads the image"
   ]
  },
  {
   "cell_type": "code",
   "execution_count": null,
   "metadata": {},
   "outputs": [],
   "source": [
    "channel_df = pd.pivot_table(df,index='CHANNEL',values='PRODUCT_NAME',aggfunc='count')\n",
    "print(channel_df)\n",
    "# traces = [go.Scatter(x=channel_df.columns,y=channel_df.loc[rowname],mode='markers+lines',name=rowname) for rowname in channel_df]\n",
    "# layout = go.Layout(title='Total with channel')\n",
    "# fig = go.Figure(data=channel_df,layout=layout)\n",
    "# pyo.plot(fig,filename=\"ChannelTotal.html\")\n",
    "# df.CHANNEL.value_counts()\n",
    "# channel_df\n",
    "\n",
    "z=df.groupby('CHANNEL').PRODUCT_NAME\n",
    "z.value_counts().iplot()"
   ]
  }
 ],
 "metadata": {
  "kernelspec": {
   "display_name": "Python 3",
   "language": "python",
   "name": "python3"
  },
  "language_info": {
   "codemirror_mode": {
    "name": "ipython",
    "version": 3
   },
   "file_extension": ".py",
   "mimetype": "text/x-python",
   "name": "python",
   "nbconvert_exporter": "python",
   "pygments_lexer": "ipython3",
   "version": "3.7.7"
  }
 },
 "nbformat": 4,
 "nbformat_minor": 4
}
